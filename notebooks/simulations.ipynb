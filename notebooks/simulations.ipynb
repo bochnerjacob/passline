{
 "cells": [
  {
   "cell_type": "markdown",
   "id": "b1c942b2",
   "metadata": {},
   "source": [
    "# Simulations\n",
    "\n",
    "## Outline\n",
    "\n",
    "<ol>\n",
    "  <li>Import our test set with mean predictions and best Poisson model that we trained in cross_validation.ipynb.</li>\n",
    "  <li>Run bootstrapping to generate confidence and prediction intervals that provide us with a sense of uncertainty around our model's estimates.</li>\n",
    "  <li>Compute the full probability distribution for each test set observation given our mean predictions.</li>\n",
    "  <li>Generate a visualization showing the results of bootstrapping.</li>\n",
    "</ol>"
   ]
  },
  {
   "cell_type": "code",
   "execution_count": null,
   "id": "67456454",
   "metadata": {},
   "outputs": [
    {
     "data": {
      "text/plain": [
       "<polars.config.Config at 0x7f20da18ce50>"
      ]
     },
     "execution_count": 2,
     "metadata": {},
     "output_type": "execute_result"
    }
   ],
   "source": [
    "# Data manipulation\n",
    "import numpy as np\n",
    "import pandas as pd\n",
    "import polars as pl\n",
    "import datetime\n",
    "import sys\n",
    "import os\n",
    "\n",
    "# Regression\n",
    "from sklearn.linear_model import PoissonRegressor\n",
    "\n",
    "# Visualization\n",
    "import seaborn as sns\n",
    "import matplotlib.pyplot as plt\n",
    "from scipy.stats import poisson\n",
    "\n",
    "# Utilities\n",
    "import os\n",
    "os.chdir('<YOUR_ROOT_DIRECTORY>') # navigate to the root\n",
    "\n",
    "from utils.nfl_utils import plot_prediction_interval\n",
    "\n",
    "# Loading model\n",
    "import skops.io as sio\n",
    "\n",
    "pl.Config(tbl_cols = 50, tbl_rows = 60, set_fmt_str_lengths = 150)"
   ]
  },
  {
   "cell_type": "code",
   "execution_count": null,
   "id": "77ba01f5",
   "metadata": {},
   "outputs": [
    {
     "data": {
      "text/html": [
       "<div>\n",
       "<style scoped>\n",
       "    .dataframe tbody tr th:only-of-type {\n",
       "        vertical-align: middle;\n",
       "    }\n",
       "\n",
       "    .dataframe tbody tr th {\n",
       "        vertical-align: top;\n",
       "    }\n",
       "\n",
       "    .dataframe thead th {\n",
       "        text-align: right;\n",
       "    }\n",
       "</style>\n",
       "<table border=\"1\" class=\"dataframe\">\n",
       "  <thead>\n",
       "    <tr style=\"text-align: right;\">\n",
       "      <th></th>\n",
       "      <th>season</th>\n",
       "      <th>week</th>\n",
       "      <th>player_display_name</th>\n",
       "      <th>team</th>\n",
       "      <th>defteam</th>\n",
       "      <th>y_true</th>\n",
       "      <th>y_pred</th>\n",
       "    </tr>\n",
       "  </thead>\n",
       "  <tbody>\n",
       "    <tr>\n",
       "      <th>4290</th>\n",
       "      <td>2024</td>\n",
       "      <td>21</td>\n",
       "      <td>Patrick Mahomes</td>\n",
       "      <td>KC</td>\n",
       "      <td>BUF</td>\n",
       "      <td>1</td>\n",
       "      <td>1.699485</td>\n",
       "    </tr>\n",
       "    <tr>\n",
       "      <th>4291</th>\n",
       "      <td>2024</td>\n",
       "      <td>21</td>\n",
       "      <td>Jalen Hurts</td>\n",
       "      <td>PHI</td>\n",
       "      <td>WAS</td>\n",
       "      <td>1</td>\n",
       "      <td>1.617485</td>\n",
       "    </tr>\n",
       "    <tr>\n",
       "      <th>4292</th>\n",
       "      <td>2024</td>\n",
       "      <td>21</td>\n",
       "      <td>Jayden Daniels</td>\n",
       "      <td>WAS</td>\n",
       "      <td>PHI</td>\n",
       "      <td>1</td>\n",
       "      <td>1.248563</td>\n",
       "    </tr>\n",
       "    <tr>\n",
       "      <th>4293</th>\n",
       "      <td>2024</td>\n",
       "      <td>22</td>\n",
       "      <td>Patrick Mahomes</td>\n",
       "      <td>KC</td>\n",
       "      <td>PHI</td>\n",
       "      <td>3</td>\n",
       "      <td>1.711062</td>\n",
       "    </tr>\n",
       "    <tr>\n",
       "      <th>4294</th>\n",
       "      <td>2024</td>\n",
       "      <td>22</td>\n",
       "      <td>Jalen Hurts</td>\n",
       "      <td>PHI</td>\n",
       "      <td>KC</td>\n",
       "      <td>2</td>\n",
       "      <td>1.581912</td>\n",
       "    </tr>\n",
       "  </tbody>\n",
       "</table>\n",
       "</div>"
      ],
      "text/plain": [
       "      season  week player_display_name team defteam  y_true    y_pred\n",
       "4290    2024    21     Patrick Mahomes   KC     BUF       1  1.699485\n",
       "4291    2024    21         Jalen Hurts  PHI     WAS       1  1.617485\n",
       "4292    2024    21      Jayden Daniels  WAS     PHI       1  1.248563\n",
       "4293    2024    22     Patrick Mahomes   KC     PHI       3  1.711062\n",
       "4294    2024    22         Jalen Hurts  PHI      KC       2  1.581912"
      ]
     },
     "execution_count": 3,
     "metadata": {},
     "output_type": "execute_result"
    }
   ],
   "source": [
    "# Import our model and data needed for bootstrapping.\n",
    "unknown_types = sio.get_untrusted_types(file='<YOUR_MODELS_DIRECTORY>/qb_poisson_model.skops')\n",
    "qb_poisson_model = sio.load('<YOUR_MODELS_DIRECTORY>/qb_poisson_model.skops', trusted=unknown_types)\n",
    "\n",
    "y_test_all = pd.read_parquet('<YOUR_DATASETS_DIRECTORY>/qb_test_true_pred.parquet')\n",
    "X_train = pd.read_parquet('<YOUR_DATASETS_DIRECTORY>/qb_X_train.parquet')\n",
    "X_test = pd.read_parquet('<YOUR_DATASETS_DIRECTORY>/qb_X_test.parquet')\n",
    "\n",
    "y_test_all.tail()"
   ]
  },
  {
   "cell_type": "code",
   "execution_count": 4,
   "id": "ca0c9ab6",
   "metadata": {},
   "outputs": [],
   "source": [
    "# Let's obtain confidence intervals for lambda and prediction intervals for actual counts. We'll use bootstrapping.\n",
    "\n",
    "# Here is the setup.\n",
    "n_boot = 10000\n",
    "n_train = X_train.shape[0]\n",
    "n_test = X_test.shape[0]\n",
    "\n",
    "lambda_bootstrap = np.zeros((n_test, n_boot))\n",
    "y_pred_bootstrap = np.zeros((n_test, n_boot))\n",
    "\n",
    "# For reproducability.\n",
    "rng = np.random.default_rng(42)\n",
    "\n",
    "for sim in range(n_boot):\n",
    "\n",
    "    # Simulate new counts, refit, and then store the new predictions\n",
    "    y_pred_train = qb_poisson_model.predict(X_train)\n",
    "    y_sim = rng.poisson(lam=y_pred_train, size=n_train)\n",
    "\n",
    "    sim_poisson = PoissonRegressor(alpha=0.1, max_iter=100, solver='newton-cholesky')\n",
    "    sim_poisson.fit(X_train, y_sim)\n",
    "\n",
    "    sim_y_pred = sim_poisson.predict(X_test)\n",
    "    lambda_bootstrap[:, sim] = sim_y_pred\n",
    "\n",
    "    y_pred_bootstrap[:, sim] = rng.poisson(lam=sim_y_pred, size=n_test)"
   ]
  },
  {
   "cell_type": "code",
   "execution_count": 5,
   "id": "95fc6d9f",
   "metadata": {},
   "outputs": [
    {
     "data": {
      "text/html": [
       "<div><style>\n",
       ".dataframe > thead > tr,\n",
       ".dataframe > tbody > tr {\n",
       "  text-align: right;\n",
       "  white-space: pre-wrap;\n",
       "}\n",
       "</style>\n",
       "<small>shape: (5, 12)</small><table border=\"1\" class=\"dataframe\"><thead><tr><th>season</th><th>week</th><th>player_display_name</th><th>team</th><th>defteam</th><th>y_true</th><th>y_pred</th><th>ci_lower</th><th>ci_upper</th><th>pred_lower_ci</th><th>pred_upper_ci</th><th>y_pred_bootstrap</th></tr><tr><td>i32</td><td>i32</td><td>str</td><td>str</td><td>str</td><td>i32</td><td>f64</td><td>f64</td><td>f64</td><td>f64</td><td>f64</td><td>array[f64, 10000]</td></tr></thead><tbody><tr><td>2024</td><td>21</td><td>&quot;Patrick Mahomes&quot;</td><td>&quot;KC&quot;</td><td>&quot;BUF&quot;</td><td>1</td><td>1.699485</td><td>1.622257</td><td>1.75253</td><td>0.0</td><td>5.0</td><td>[0.0, 0.0, … 2.0]</td></tr><tr><td>2024</td><td>21</td><td>&quot;Jalen Hurts&quot;</td><td>&quot;PHI&quot;</td><td>&quot;WAS&quot;</td><td>1</td><td>1.617485</td><td>1.560929</td><td>1.767897</td><td>0.0</td><td>5.0</td><td>[2.0, 2.0, … 2.0]</td></tr><tr><td>2024</td><td>21</td><td>&quot;Jayden Daniels&quot;</td><td>&quot;WAS&quot;</td><td>&quot;PHI&quot;</td><td>1</td><td>1.248563</td><td>1.175268</td><td>1.385334</td><td>0.0</td><td>4.0</td><td>[2.0, 1.0, … 0.0]</td></tr><tr><td>2024</td><td>22</td><td>&quot;Patrick Mahomes&quot;</td><td>&quot;KC&quot;</td><td>&quot;PHI&quot;</td><td>3</td><td>1.711062</td><td>1.639642</td><td>1.792861</td><td>0.0</td><td>5.0</td><td>[4.0, 0.0, … 3.0]</td></tr><tr><td>2024</td><td>22</td><td>&quot;Jalen Hurts&quot;</td><td>&quot;PHI&quot;</td><td>&quot;KC&quot;</td><td>2</td><td>1.581912</td><td>1.513642</td><td>1.694566</td><td>0.0</td><td>4.0</td><td>[2.0, 1.0, … 2.0]</td></tr></tbody></table></div>"
      ],
      "text/plain": [
       "shape: (5, 12)\n",
       "┌────────┬──────┬────────┬──────┬────────┬────────┬────────┬───────┬───────┬───────┬───────┬───────┐\n",
       "│ season ┆ week ┆ player ┆ team ┆ deftea ┆ y_true ┆ y_pred ┆ ci_lo ┆ ci_up ┆ pred_ ┆ pred_ ┆ y_pre │\n",
       "│ ---    ┆ ---  ┆ _displ ┆ ---  ┆ m      ┆ ---    ┆ ---    ┆ wer   ┆ per   ┆ lower ┆ upper ┆ d_boo │\n",
       "│ i32    ┆ i32  ┆ ay_nam ┆ str  ┆ ---    ┆ i32    ┆ f64    ┆ ---   ┆ ---   ┆ _ci   ┆ _ci   ┆ tstra │\n",
       "│        ┆      ┆ e      ┆      ┆ str    ┆        ┆        ┆ f64   ┆ f64   ┆ ---   ┆ ---   ┆ p     │\n",
       "│        ┆      ┆ ---    ┆      ┆        ┆        ┆        ┆       ┆       ┆ f64   ┆ f64   ┆ ---   │\n",
       "│        ┆      ┆ str    ┆      ┆        ┆        ┆        ┆       ┆       ┆       ┆       ┆ array │\n",
       "│        ┆      ┆        ┆      ┆        ┆        ┆        ┆       ┆       ┆       ┆       ┆ [f64, │\n",
       "│        ┆      ┆        ┆      ┆        ┆        ┆        ┆       ┆       ┆       ┆       ┆ 10000 │\n",
       "│        ┆      ┆        ┆      ┆        ┆        ┆        ┆       ┆       ┆       ┆       ┆ ]     │\n",
       "╞════════╪══════╪════════╪══════╪════════╪════════╪════════╪═══════╪═══════╪═══════╪═══════╪═══════╡\n",
       "│ 2024   ┆ 21   ┆ Patric ┆ KC   ┆ BUF    ┆ 1      ┆ 1.6994 ┆ 1.622 ┆ 1.752 ┆ 0.0   ┆ 5.0   ┆ [0.0, │\n",
       "│        ┆      ┆ k Maho ┆      ┆        ┆        ┆ 85     ┆ 257   ┆ 53    ┆       ┆       ┆ 0.0,  │\n",
       "│        ┆      ┆ mes    ┆      ┆        ┆        ┆        ┆       ┆       ┆       ┆       ┆ …     │\n",
       "│        ┆      ┆        ┆      ┆        ┆        ┆        ┆       ┆       ┆       ┆       ┆ 2.0]  │\n",
       "│ 2024   ┆ 21   ┆ Jalen  ┆ PHI  ┆ WAS    ┆ 1      ┆ 1.6174 ┆ 1.560 ┆ 1.767 ┆ 0.0   ┆ 5.0   ┆ [2.0, │\n",
       "│        ┆      ┆ Hurts  ┆      ┆        ┆        ┆ 85     ┆ 929   ┆ 897   ┆       ┆       ┆ 2.0,  │\n",
       "│        ┆      ┆        ┆      ┆        ┆        ┆        ┆       ┆       ┆       ┆       ┆ …     │\n",
       "│        ┆      ┆        ┆      ┆        ┆        ┆        ┆       ┆       ┆       ┆       ┆ 2.0]  │\n",
       "│ 2024   ┆ 21   ┆ Jayden ┆ WAS  ┆ PHI    ┆ 1      ┆ 1.2485 ┆ 1.175 ┆ 1.385 ┆ 0.0   ┆ 4.0   ┆ [2.0, │\n",
       "│        ┆      ┆ Daniel ┆      ┆        ┆        ┆ 63     ┆ 268   ┆ 334   ┆       ┆       ┆ 1.0,  │\n",
       "│        ┆      ┆ s      ┆      ┆        ┆        ┆        ┆       ┆       ┆       ┆       ┆ …     │\n",
       "│        ┆      ┆        ┆      ┆        ┆        ┆        ┆       ┆       ┆       ┆       ┆ 0.0]  │\n",
       "│ 2024   ┆ 22   ┆ Patric ┆ KC   ┆ PHI    ┆ 3      ┆ 1.7110 ┆ 1.639 ┆ 1.792 ┆ 0.0   ┆ 5.0   ┆ [4.0, │\n",
       "│        ┆      ┆ k Maho ┆      ┆        ┆        ┆ 62     ┆ 642   ┆ 861   ┆       ┆       ┆ 0.0,  │\n",
       "│        ┆      ┆ mes    ┆      ┆        ┆        ┆        ┆       ┆       ┆       ┆       ┆ …     │\n",
       "│        ┆      ┆        ┆      ┆        ┆        ┆        ┆       ┆       ┆       ┆       ┆ 3.0]  │\n",
       "│ 2024   ┆ 22   ┆ Jalen  ┆ PHI  ┆ KC     ┆ 2      ┆ 1.5819 ┆ 1.513 ┆ 1.694 ┆ 0.0   ┆ 4.0   ┆ [2.0, │\n",
       "│        ┆      ┆ Hurts  ┆      ┆        ┆        ┆ 12     ┆ 642   ┆ 566   ┆       ┆       ┆ 1.0,  │\n",
       "│        ┆      ┆        ┆      ┆        ┆        ┆        ┆       ┆       ┆       ┆       ┆ …     │\n",
       "│        ┆      ┆        ┆      ┆        ┆        ┆        ┆       ┆       ┆       ┆       ┆ 2.0]  │\n",
       "└────────┴──────┴────────┴──────┴────────┴────────┴────────┴───────┴───────┴───────┴───────┴───────┘"
      ]
     },
     "execution_count": 5,
     "metadata": {},
     "output_type": "execute_result"
    }
   ],
   "source": [
    "# Convert y_test_all to a Polars dataframe.\n",
    "y_test_all = pl.from_pandas(y_test_all)\n",
    "\n",
    "# Compute confidence intervals and prediction intervals.\n",
    "lower_ci = np.percentile(lambda_bootstrap, 2.5, axis=1)\n",
    "upper_ci = np.percentile(lambda_bootstrap, 97.5, axis=1)\n",
    "\n",
    "pred_lower_ci = np.percentile(y_pred_bootstrap, 2.5, axis=1)\n",
    "pred_upper_ci = np.percentile(y_pred_bootstrap, 97.5, axis=1)\n",
    "\n",
    "# Combine the results.\n",
    "y_test_all_results = (\n",
    "    y_test_all\n",
    "    .with_columns(\n",
    "        pl.Series('ci_lower', lower_ci),\n",
    "        pl.Series('ci_upper', upper_ci),\n",
    "        pl.Series('pred_lower_ci', pred_lower_ci),\n",
    "        pl.Series('pred_upper_ci', pred_upper_ci),\n",
    "        pl.Series('y_pred_bootstrap', y_pred_bootstrap)\n",
    "    )\n",
    ")\n",
    "\n",
    "y_test_all_results.tail()"
   ]
  },
  {
   "cell_type": "code",
   "execution_count": null,
   "id": "e9e30cf8",
   "metadata": {},
   "outputs": [
    {
     "data": {
      "text/html": [
       "<div><style>\n",
       ".dataframe > thead > tr,\n",
       ".dataframe > tbody > tr {\n",
       "  text-align: right;\n",
       "  white-space: pre-wrap;\n",
       "}\n",
       "</style>\n",
       "<small>shape: (5, 17)</small><table border=\"1\" class=\"dataframe\"><thead><tr><th>season</th><th>week</th><th>player_display_name</th><th>team</th><th>defteam</th><th>y_true</th><th>y_pred</th><th>ci_lower</th><th>ci_upper</th><th>pred_lower_ci</th><th>pred_upper_ci</th><th>y_pred_bootstrap</th><th>p_0_td</th><th>p_1_td</th><th>p_2_td</th><th>p_3_td</th><th>p_4plus_td</th></tr><tr><td>i32</td><td>i32</td><td>str</td><td>str</td><td>str</td><td>i32</td><td>f64</td><td>f64</td><td>f64</td><td>f64</td><td>f64</td><td>array[f64, 10000]</td><td>f64</td><td>f64</td><td>f64</td><td>f64</td><td>f64</td></tr></thead><tbody><tr><td>2024</td><td>21</td><td>&quot;Patrick Mahomes&quot;</td><td>&quot;KC&quot;</td><td>&quot;BUF&quot;</td><td>1</td><td>1.699485</td><td>1.622257</td><td>1.75253</td><td>0.0</td><td>5.0</td><td>[0.0, 0.0, … 2.0]</td><td>0.182778</td><td>0.310628</td><td>0.263954</td><td>0.149528</td><td>0.093112</td></tr><tr><td>2024</td><td>21</td><td>&quot;Jalen Hurts&quot;</td><td>&quot;PHI&quot;</td><td>&quot;WAS&quot;</td><td>1</td><td>1.617485</td><td>1.560929</td><td>1.767897</td><td>0.0</td><td>5.0</td><td>[2.0, 2.0, … 2.0]</td><td>0.198397</td><td>0.320904</td><td>0.259529</td><td>0.139928</td><td>0.081242</td></tr><tr><td>2024</td><td>21</td><td>&quot;Jayden Daniels&quot;</td><td>&quot;WAS&quot;</td><td>&quot;PHI&quot;</td><td>1</td><td>1.248563</td><td>1.175268</td><td>1.385334</td><td>0.0</td><td>4.0</td><td>[2.0, 1.0, … 0.0]</td><td>0.286917</td><td>0.358234</td><td>0.223639</td><td>0.093076</td><td>0.038135</td></tr><tr><td>2024</td><td>22</td><td>&quot;Patrick Mahomes&quot;</td><td>&quot;KC&quot;</td><td>&quot;PHI&quot;</td><td>3</td><td>1.711062</td><td>1.639642</td><td>1.792861</td><td>0.0</td><td>5.0</td><td>[4.0, 0.0, … 3.0]</td><td>0.180674</td><td>0.309144</td><td>0.264482</td><td>0.150849</td><td>0.094851</td></tr><tr><td>2024</td><td>22</td><td>&quot;Jalen Hurts&quot;</td><td>&quot;PHI&quot;</td><td>&quot;KC&quot;</td><td>2</td><td>1.581912</td><td>1.513642</td><td>1.694566</td><td>0.0</td><td>4.0</td><td>[2.0, 1.0, … 2.0]</td><td>0.205582</td><td>0.325212</td><td>0.257228</td><td>0.135638</td><td>0.07634</td></tr></tbody></table></div>"
      ],
      "text/plain": [
       "shape: (5, 17)\n",
       "┌─────┬─────┬─────┬─────┬─────┬─────┬─────┬─────┬─────┬─────┬─────┬─────┬─────┬─────┬─────┬─────┬─────┐\n",
       "│ sea ┆ wee ┆ pla ┆ tea ┆ def ┆ y_t ┆ y_p ┆ ci_ ┆ ci_ ┆ pre ┆ pre ┆ y_p ┆ p_0 ┆ p_1 ┆ p_2 ┆ p_3 ┆ p_4 │\n",
       "│ son ┆ k   ┆ yer ┆ m   ┆ tea ┆ rue ┆ red ┆ low ┆ upp ┆ d_l ┆ d_u ┆ red ┆ _td ┆ _td ┆ _td ┆ _td ┆ plu │\n",
       "│ --- ┆ --- ┆ _di ┆ --- ┆ m   ┆ --- ┆ --- ┆ er  ┆ er  ┆ owe ┆ ppe ┆ _bo ┆ --- ┆ --- ┆ --- ┆ --- ┆ s_t │\n",
       "│ i32 ┆ i32 ┆ spl ┆ str ┆ --- ┆ i32 ┆ f64 ┆ --- ┆ --- ┆ r_c ┆ r_c ┆ ots ┆ f64 ┆ f64 ┆ f64 ┆ f64 ┆ d   │\n",
       "│     ┆     ┆ ay_ ┆     ┆ str ┆     ┆     ┆ f64 ┆ f64 ┆ i   ┆ i   ┆ tra ┆     ┆     ┆     ┆     ┆ --- │\n",
       "│     ┆     ┆ nam ┆     ┆     ┆     ┆     ┆     ┆     ┆ --- ┆ --- ┆ p   ┆     ┆     ┆     ┆     ┆ f64 │\n",
       "│     ┆     ┆ e   ┆     ┆     ┆     ┆     ┆     ┆     ┆ f64 ┆ f64 ┆ --- ┆     ┆     ┆     ┆     ┆     │\n",
       "│     ┆     ┆ --- ┆     ┆     ┆     ┆     ┆     ┆     ┆     ┆     ┆ arr ┆     ┆     ┆     ┆     ┆     │\n",
       "│     ┆     ┆ str ┆     ┆     ┆     ┆     ┆     ┆     ┆     ┆     ┆ ay[ ┆     ┆     ┆     ┆     ┆     │\n",
       "│     ┆     ┆     ┆     ┆     ┆     ┆     ┆     ┆     ┆     ┆     ┆ f64 ┆     ┆     ┆     ┆     ┆     │\n",
       "│     ┆     ┆     ┆     ┆     ┆     ┆     ┆     ┆     ┆     ┆     ┆ ,   ┆     ┆     ┆     ┆     ┆     │\n",
       "│     ┆     ┆     ┆     ┆     ┆     ┆     ┆     ┆     ┆     ┆     ┆ 100 ┆     ┆     ┆     ┆     ┆     │\n",
       "│     ┆     ┆     ┆     ┆     ┆     ┆     ┆     ┆     ┆     ┆     ┆ 00] ┆     ┆     ┆     ┆     ┆     │\n",
       "╞═════╪═════╪═════╪═════╪═════╪═════╪═════╪═════╪═════╪═════╪═════╪═════╪═════╪═════╪═════╪═════╪═════╡\n",
       "│ 202 ┆ 21  ┆ Pat ┆ KC  ┆ BUF ┆ 1   ┆ 1.6 ┆ 1.6 ┆ 1.7 ┆ 0.0 ┆ 5.0 ┆ [0. ┆ 0.1 ┆ 0.3 ┆ 0.2 ┆ 0.1 ┆ 0.0 │\n",
       "│ 4   ┆     ┆ ric ┆     ┆     ┆     ┆ 994 ┆ 222 ┆ 525 ┆     ┆     ┆ 0,  ┆ 827 ┆ 106 ┆ 639 ┆ 495 ┆ 931 │\n",
       "│     ┆     ┆ k   ┆     ┆     ┆     ┆ 85  ┆ 57  ┆ 3   ┆     ┆     ┆ 0.0 ┆ 78  ┆ 28  ┆ 54  ┆ 28  ┆ 12  │\n",
       "│     ┆     ┆ Mah ┆     ┆     ┆     ┆     ┆     ┆     ┆     ┆     ┆ , … ┆     ┆     ┆     ┆     ┆     │\n",
       "│     ┆     ┆ ome ┆     ┆     ┆     ┆     ┆     ┆     ┆     ┆     ┆ 2.0 ┆     ┆     ┆     ┆     ┆     │\n",
       "│     ┆     ┆ s   ┆     ┆     ┆     ┆     ┆     ┆     ┆     ┆     ┆ ]   ┆     ┆     ┆     ┆     ┆     │\n",
       "│ 202 ┆ 21  ┆ Jal ┆ PHI ┆ WAS ┆ 1   ┆ 1.6 ┆ 1.5 ┆ 1.7 ┆ 0.0 ┆ 5.0 ┆ [2. ┆ 0.1 ┆ 0.3 ┆ 0.2 ┆ 0.1 ┆ 0.0 │\n",
       "│ 4   ┆     ┆ en  ┆     ┆     ┆     ┆ 174 ┆ 609 ┆ 678 ┆     ┆     ┆ 0,  ┆ 983 ┆ 209 ┆ 595 ┆ 399 ┆ 812 │\n",
       "│     ┆     ┆ Hur ┆     ┆     ┆     ┆ 85  ┆ 29  ┆ 97  ┆     ┆     ┆ 2.0 ┆ 97  ┆ 04  ┆ 29  ┆ 28  ┆ 42  │\n",
       "│     ┆     ┆ ts  ┆     ┆     ┆     ┆     ┆     ┆     ┆     ┆     ┆ , … ┆     ┆     ┆     ┆     ┆     │\n",
       "│     ┆     ┆     ┆     ┆     ┆     ┆     ┆     ┆     ┆     ┆     ┆ 2.0 ┆     ┆     ┆     ┆     ┆     │\n",
       "│     ┆     ┆     ┆     ┆     ┆     ┆     ┆     ┆     ┆     ┆     ┆ ]   ┆     ┆     ┆     ┆     ┆     │\n",
       "│ 202 ┆ 21  ┆ Jay ┆ WAS ┆ PHI ┆ 1   ┆ 1.2 ┆ 1.1 ┆ 1.3 ┆ 0.0 ┆ 4.0 ┆ [2. ┆ 0.2 ┆ 0.3 ┆ 0.2 ┆ 0.0 ┆ 0.0 │\n",
       "│ 4   ┆     ┆ den ┆     ┆     ┆     ┆ 485 ┆ 752 ┆ 853 ┆     ┆     ┆ 0,  ┆ 869 ┆ 582 ┆ 236 ┆ 930 ┆ 381 │\n",
       "│     ┆     ┆ Dan ┆     ┆     ┆     ┆ 63  ┆ 68  ┆ 34  ┆     ┆     ┆ 1.0 ┆ 17  ┆ 34  ┆ 39  ┆ 76  ┆ 35  │\n",
       "│     ┆     ┆ iel ┆     ┆     ┆     ┆     ┆     ┆     ┆     ┆     ┆ , … ┆     ┆     ┆     ┆     ┆     │\n",
       "│     ┆     ┆ s   ┆     ┆     ┆     ┆     ┆     ┆     ┆     ┆     ┆ 0.0 ┆     ┆     ┆     ┆     ┆     │\n",
       "│     ┆     ┆     ┆     ┆     ┆     ┆     ┆     ┆     ┆     ┆     ┆ ]   ┆     ┆     ┆     ┆     ┆     │\n",
       "│ 202 ┆ 22  ┆ Pat ┆ KC  ┆ PHI ┆ 3   ┆ 1.7 ┆ 1.6 ┆ 1.7 ┆ 0.0 ┆ 5.0 ┆ [4. ┆ 0.1 ┆ 0.3 ┆ 0.2 ┆ 0.1 ┆ 0.0 │\n",
       "│ 4   ┆     ┆ ric ┆     ┆     ┆     ┆ 110 ┆ 396 ┆ 928 ┆     ┆     ┆ 0,  ┆ 806 ┆ 091 ┆ 644 ┆ 508 ┆ 948 │\n",
       "│     ┆     ┆ k   ┆     ┆     ┆     ┆ 62  ┆ 42  ┆ 61  ┆     ┆     ┆ 0.0 ┆ 74  ┆ 44  ┆ 82  ┆ 49  ┆ 51  │\n",
       "│     ┆     ┆ Mah ┆     ┆     ┆     ┆     ┆     ┆     ┆     ┆     ┆ , … ┆     ┆     ┆     ┆     ┆     │\n",
       "│     ┆     ┆ ome ┆     ┆     ┆     ┆     ┆     ┆     ┆     ┆     ┆ 3.0 ┆     ┆     ┆     ┆     ┆     │\n",
       "│     ┆     ┆ s   ┆     ┆     ┆     ┆     ┆     ┆     ┆     ┆     ┆ ]   ┆     ┆     ┆     ┆     ┆     │\n",
       "│ 202 ┆ 22  ┆ Jal ┆ PHI ┆ KC  ┆ 2   ┆ 1.5 ┆ 1.5 ┆ 1.6 ┆ 0.0 ┆ 4.0 ┆ [2. ┆ 0.2 ┆ 0.3 ┆ 0.2 ┆ 0.1 ┆ 0.0 │\n",
       "│ 4   ┆     ┆ en  ┆     ┆     ┆     ┆ 819 ┆ 136 ┆ 945 ┆     ┆     ┆ 0,  ┆ 055 ┆ 252 ┆ 572 ┆ 356 ┆ 763 │\n",
       "│     ┆     ┆ Hur ┆     ┆     ┆     ┆ 12  ┆ 42  ┆ 66  ┆     ┆     ┆ 1.0 ┆ 82  ┆ 12  ┆ 28  ┆ 38  ┆ 4   │\n",
       "│     ┆     ┆ ts  ┆     ┆     ┆     ┆     ┆     ┆     ┆     ┆     ┆ , … ┆     ┆     ┆     ┆     ┆     │\n",
       "│     ┆     ┆     ┆     ┆     ┆     ┆     ┆     ┆     ┆     ┆     ┆ 2.0 ┆     ┆     ┆     ┆     ┆     │\n",
       "│     ┆     ┆     ┆     ┆     ┆     ┆     ┆     ┆     ┆     ┆     ┆ ]   ┆     ┆     ┆     ┆     ┆     │\n",
       "└─────┴─────┴─────┴─────┴─────┴─────┴─────┴─────┴─────┴─────┴─────┴─────┴─────┴─────┴─────┴─────┴─────┘"
      ]
     },
     "execution_count": 6,
     "metadata": {},
     "output_type": "execute_result"
    }
   ],
   "source": [
    "# Now let's calculate the probability for each count. The largest count (4) will be calculated as the probability of 4+.\n",
    "td_range = np.unique(y_test_all_results.select('y_true').to_numpy())\n",
    "k_max = td_range[-1]\n",
    "\n",
    "# Get all of the lambdas.\n",
    "lambda_series = y_test_all_results['y_pred'].to_numpy()\n",
    "\n",
    "for k in td_range:\n",
    "    if k < k_max:\n",
    "        probs = poisson.pmf(k, lambda_series)\n",
    "        col_name = f'p_{k}_td'\n",
    "    else:\n",
    "        # The last bin is 1 - the cumulative sum of prior count probabilities\n",
    "        probs = 1 - poisson.cdf(k_max - 1, lambda_series)\n",
    "        col_name = f'p_{k}plus_td'\n",
    "    \n",
    "    y_test_all_results = (\n",
    "        y_test_all_results\n",
    "        .with_columns(\n",
    "        pl.Series(col_name, probs)\n",
    "        )\n",
    "    )\n",
    "\n",
    "y_test_all_results.tail()"
   ]
  },
  {
   "cell_type": "markdown",
   "id": "0b2c1a27",
   "metadata": {},
   "source": [
    "### We can visualize the probable range of outcomes for a QB in any game of our choice."
   ]
  },
  {
   "cell_type": "code",
   "execution_count": 7,
   "id": "3cf66aa6",
   "metadata": {},
   "outputs": [
    {
     "data": {
      "image/png": "[encoded data removed]",
      "text/plain": [
       "<Figure size 800x500 with 1 Axes>"
      ]
     },
     "metadata": {},
     "output_type": "display_data"
    }
   ],
   "source": [
    "# Let's plot our results. Here is an example.\n",
    "plot_prediction_interval(y_test_all_results, 'HOU', 2024, 10)"
   ]
  },
  {
   "cell_type": "code",
   "execution_count": null,
   "id": "838399b2",
   "metadata": {},
   "outputs": [],
   "source": [
    "# Export.\n",
    "y_test_all_results.write_parquet('<YOUR_DATASETS_DIRECTORY>/qb_bootstrap_results.parquet')"
   ]
  }
 ],
 "metadata": {
  "kernelspec": {
   "display_name": ".venv",
   "language": "python",
   "name": "python3"
  },
  "language_info": {
   "codemirror_mode": {
    "name": "ipython",
    "version": 3
   },
   "file_extension": ".py",
   "mimetype": "text/x-python",
   "name": "python",
   "nbconvert_exporter": "python",
   "pygments_lexer": "ipython3",
   "version": "3.10.12"
  }
 },
 "nbformat": 4,
 "nbformat_minor": 5
}
